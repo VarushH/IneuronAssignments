{
 "cells": [
  {
   "cell_type": "markdown",
   "id": "ebfca24e",
   "metadata": {},
   "source": [
    "1. Write a Python program to print \"Hello Python\"?"
   ]
  },
  {
   "cell_type": "code",
   "execution_count": 1,
   "id": "4aab2521",
   "metadata": {},
   "outputs": [
    {
     "name": "stdout",
     "output_type": "stream",
     "text": [
      "Hello Python\n"
     ]
    }
   ],
   "source": [
    "print(\"Hello Python\")"
   ]
  },
  {
   "cell_type": "markdown",
   "id": "d780fd8b",
   "metadata": {},
   "source": [
    "2. Write a Python program to do arithmetical operations addition and division.?"
   ]
  },
  {
   "cell_type": "code",
   "execution_count": 2,
   "id": "7c692907",
   "metadata": {},
   "outputs": [
    {
     "name": "stdout",
     "output_type": "stream",
     "text": [
      "7\n",
      "5.0\n"
     ]
    }
   ],
   "source": [
    "result1 = 5+2\n",
    "print(result1)\n",
    "result2 = 25/5\n",
    "print(result2)"
   ]
  },
  {
   "cell_type": "markdown",
   "id": "7184206e",
   "metadata": {},
   "source": [
    "3.Write a Python program to find the area of a triangle?"
   ]
  },
  {
   "cell_type": "code",
   "execution_count": 3,
   "id": "aa450277",
   "metadata": {},
   "outputs": [
    {
     "name": "stdout",
     "output_type": "stream",
     "text": [
      "250.0\n"
     ]
    }
   ],
   "source": [
    "b = 10\n",
    "h = 50\n",
    "area = 0.5*b*h\n",
    "print(area)"
   ]
  },
  {
   "cell_type": "markdown",
   "id": "320b20df",
   "metadata": {},
   "source": [
    "4. Write a Python program to swap two variables?"
   ]
  },
  {
   "cell_type": "code",
   "execution_count": 4,
   "id": "48a26f75",
   "metadata": {},
   "outputs": [
    {
     "name": "stdout",
     "output_type": "stream",
     "text": [
      "The value of a is 80 and value of b is 55 before swapping\n",
      "The value of a is 55 and value of b is 80 after swapping\n"
     ]
    }
   ],
   "source": [
    "a = 80\n",
    "b = 55\n",
    "print(f'The value of a is {a} and value of b is {b} before swapping')\n",
    "a = a+b\n",
    "b = a-b\n",
    "a = a-b\n",
    "print(f'The value of a is {a} and value of b is {b} after swapping')"
   ]
  },
  {
   "cell_type": "markdown",
   "id": "99c8ddb7",
   "metadata": {},
   "source": [
    "5. Write a Python program to generate a random number?"
   ]
  },
  {
   "cell_type": "code",
   "execution_count": 5,
   "id": "11259645",
   "metadata": {},
   "outputs": [
    {
     "name": "stdout",
     "output_type": "stream",
     "text": [
      "0.32642338274327265\n"
     ]
    }
   ],
   "source": [
    "import random\n",
    "print(random.random())"
   ]
  }
 ],
 "metadata": {
  "kernelspec": {
   "display_name": "Python 3 (ipykernel)",
   "language": "python",
   "name": "python3"
  },
  "language_info": {
   "codemirror_mode": {
    "name": "ipython",
    "version": 3
   },
   "file_extension": ".py",
   "mimetype": "text/x-python",
   "name": "python",
   "nbconvert_exporter": "python",
   "pygments_lexer": "ipython3",
   "version": "3.9.12"
  }
 },
 "nbformat": 4,
 "nbformat_minor": 5
}
