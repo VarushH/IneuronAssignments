{
 "cells": [
  {
   "cell_type": "markdown",
   "id": "be0a2ba9",
   "metadata": {},
   "source": [
    "1. Write a Python program to convert kilometers to miles?"
   ]
  },
  {
   "cell_type": "code",
   "execution_count": 1,
   "id": "e3cc7edc",
   "metadata": {
    "scrolled": true
   },
   "outputs": [
    {
     "name": "stdout",
     "output_type": "stream",
     "text": [
      "Enter the distance in KM:  22\n",
      "The distance in miles is 13.67014\n"
     ]
    }
   ],
   "source": [
    "d_km = int(input(\"Enter the distance in KM:  \"))\n",
    "d_miles = 0.62137*d_km\n",
    "print(f'The distance in miles is {d_miles}')"
   ]
  },
  {
   "cell_type": "markdown",
   "id": "f9fcf7b0",
   "metadata": {},
   "source": [
    "2. Write a Python program to convert Celsius to Fahrenheit?"
   ]
  },
  {
   "cell_type": "code",
   "execution_count": 2,
   "id": "226e9018",
   "metadata": {},
   "outputs": [
    {
     "name": "stdout",
     "output_type": "stream",
     "text": [
      "The temperature in F is 96.8\n"
     ]
    }
   ],
   "source": [
    "temp_c = 36\n",
    "temp_f = (temp_c*1.8) + 32\n",
    "print(f'The temperature in F is {temp_f}')"
   ]
  },
  {
   "cell_type": "markdown",
   "id": "1f6df536",
   "metadata": {},
   "source": [
    "3. Write a Python program to display calendar?"
   ]
  },
  {
   "cell_type": "code",
   "execution_count": 3,
   "id": "114e7369",
   "metadata": {},
   "outputs": [
    {
     "name": "stdout",
     "output_type": "stream",
     "text": [
      "    October 2022\n",
      "Mo Tu We Th Fr Sa Su\n",
      "                1  2\n",
      " 3  4  5  6  7  8  9\n",
      "10 11 12 13 14 15 16\n",
      "17 18 19 20 21 22 23\n",
      "24 25 26 27 28 29 30\n",
      "31\n",
      "\n"
     ]
    }
   ],
   "source": [
    "import calendar\n",
    "print(calendar.month(2022,10))"
   ]
  },
  {
   "cell_type": "markdown",
   "id": "26eb03ec",
   "metadata": {},
   "source": [
    "4. Write a Python program to solve quadratic equation?"
   ]
  },
  {
   "cell_type": "code",
   "execution_count": 4,
   "id": "8dc9924e",
   "metadata": {},
   "outputs": [
    {
     "name": "stdout",
     "output_type": "stream",
     "text": [
      "One of the roots is -6.0\n"
     ]
    }
   ],
   "source": [
    "import math\n",
    "a = 3\n",
    "b = 5\n",
    "c = 2\n",
    "r1 = (-b+math.sqrt((b**2)-(4*a*c)))/2*a\n",
    "print(f'One of the roots is {r1}')"
   ]
  },
  {
   "cell_type": "markdown",
   "id": "a9a6a6fc",
   "metadata": {},
   "source": [
    "5. Write a Python program to swap two variables without temp variable?"
   ]
  },
  {
   "cell_type": "code",
   "execution_count": 5,
   "id": "a2178153",
   "metadata": {},
   "outputs": [
    {
     "name": "stdout",
     "output_type": "stream",
     "text": [
      "The value of a is 99 and value of b is 77 before swapping\n",
      "The value of a is 77 and value of b is 99 after swapping\n"
     ]
    }
   ],
   "source": [
    "a = 99\n",
    "b = 77\n",
    "print(f'The value of a is {a} and value of b is {b} before swapping')\n",
    "a = a+b\n",
    "b = a-b\n",
    "a = a-b\n",
    "print(f'The value of a is {a} and value of b is {b} after swapping')"
   ]
  }
 ],
 "metadata": {
  "kernelspec": {
   "display_name": "Python 3 (ipykernel)",
   "language": "python",
   "name": "python3"
  },
  "language_info": {
   "codemirror_mode": {
    "name": "ipython",
    "version": 3
   },
   "file_extension": ".py",
   "mimetype": "text/x-python",
   "name": "python",
   "nbconvert_exporter": "python",
   "pygments_lexer": "ipython3",
   "version": "3.9.12"
  }
 },
 "nbformat": 4,
 "nbformat_minor": 5
}
